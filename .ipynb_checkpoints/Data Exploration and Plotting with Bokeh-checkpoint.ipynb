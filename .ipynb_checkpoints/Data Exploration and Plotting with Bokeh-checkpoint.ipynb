{
 "cells": [
  {
   "cell_type": "code",
   "execution_count": 1,
   "metadata": {},
   "outputs": [],
   "source": [
    "import pandas as pd \n",
    "import matplotlib.pyplot as plt\n",
    "import datetime as dt\n",
    "import numpy as np"
   ]
  },
  {
   "cell_type": "code",
   "execution_count": 10,
   "metadata": {},
   "outputs": [],
   "source": [
    "start_date = '1975-01-01'\n",
    "end_date = '2022-01-01'\n",
    "\n",
    "def data_processing(df):\n",
    "    df['DATE'] = pd.to_datetime(df['DATE'])\n",
    "    #set as index\n",
    "    df = df.set_index('DATE',inplace=False,drop=True)\n",
    "    #slice into interval range\n",
    "    df = df[start_date:end_date]\n",
    "    #rename columns\n",
    "    df = df.rename(columns={df.columns[0]:\"data\"},inplace=False)\n",
    "    #drop non-numeric values, convert object type\n",
    "    df['data'] = df[df['data'].apply(lambda x: x!=\".\")].astype(np.float64)\n",
    "    #remove any nan\n",
    "    df = df.dropna(axis=0)\n",
    "    #normalize\n",
    "    df['data'] = df['data']/df.iloc[0,0]\n",
    "    df = df.reset_index()\n",
    "    return df"
   ]
  },
  {
   "cell_type": "code",
   "execution_count": 11,
   "metadata": {},
   "outputs": [],
   "source": [
    "#load data\n",
    "median_personal_income = pd.read_csv('data/MEPAINUSA646N.csv')\n",
    "median_household_sale = pd.read_csv('data/MSPUS.csv')\n",
    "nasdaq = pd.read_csv('data/NASDAQCOM.csv')\n",
    "\n",
    "#process data\n",
    "median_personal_income = data_processing(median_personal_income)\n",
    "median_household_sale = data_processing(median_household_sale)\n",
    "nasdaq = data_processing(nasdaq)"
   ]
  },
  {
   "cell_type": "code",
   "execution_count": null,
   "metadata": {},
   "outputs": [],
   "source": []
  },
  {
   "cell_type": "code",
   "execution_count": 12,
   "metadata": {},
   "outputs": [
    {
     "data": {
      "text/plain": [
       "<matplotlib.legend.Legend at 0x22cde574908>"
      ]
     },
     "execution_count": 12,
     "metadata": {},
     "output_type": "execute_result"
    },
    {
     "data": {
      "image/png": "[encoded data removed]",
      "text/plain": [
       "<Figure size 432x288 with 1 Axes>"
      ]
     },
     "metadata": {
      "needs_background": "light"
     },
     "output_type": "display_data"
    }
   ],
   "source": [
    "plt.plot(median_personal_income['DATE'],median_personal_income['data'],label='median personal income')\n",
    "plt.plot(median_household_sale['DATE'],median_household_sale['data'],label='median household sales')\n",
    "plt.plot(nasdaq['DATE'],nasdaq['data'],label='nasdaq',alpha=0.8)\n",
    "plt.legend()"
   ]
  },
  {
   "cell_type": "code",
   "execution_count": 13,
   "metadata": {},
   "outputs": [],
   "source": [
    "from bokeh.plotting import figure, show, output_file\n",
    "from bokeh.models import ColumnDataSource, HoverTool"
   ]
  },
  {
   "cell_type": "code",
   "execution_count": 17,
   "metadata": {},
   "outputs": [],
   "source": [
    "\n",
    "p = figure(title = \"Asset Growth in US\", plot_height=500, plot_width=500,x_axis_type='datetime')\n",
    "\n",
    "p.xaxis.axis_label = 'Date'\n",
    "p.yaxis.axis_label = 'Normalized Growth'\n",
    "\n",
    "#p.line('DATE', 'data',\n",
    " #        line_alpha=0.8, line_width=2, line_color='red',source=ColumnDataSource(nasdaq),legend_label='NASDAQ Composite Index')\n",
    "\n",
    "p.line('DATE', 'data',\n",
    "         line_alpha=0.8, line_width=2,line_color='blue',source=ColumnDataSource(median_personal_income),legend_label='Median Personal Income')\n",
    "\n",
    "p.line('DATE', 'data',\n",
    "         line_alpha=0.8, line_width=2, line_color='green',source=ColumnDataSource(median_household_sale),legend_label='Median Household Price')\n",
    "\n",
    "p.legend.location = \"top_left\"\n",
    "p.legend.click_policy=\"hide\"\n",
    "\n",
    "output_file('plot.html')\n",
    "\n",
    "show(p)"
   ]
  },
  {
   "cell_type": "code",
   "execution_count": null,
   "metadata": {},
   "outputs": [],
   "source": []
  }
 ],
 "metadata": {
  "kernelspec": {
   "display_name": "Python 3",
   "language": "python",
   "name": "python3"
  },
  "language_info": {
   "codemirror_mode": {
    "name": "ipython",
    "version": 3
   },
   "file_extension": ".py",
   "mimetype": "text/x-python",
   "name": "python",
   "nbconvert_exporter": "python",
   "pygments_lexer": "ipython3",
   "version": "3.6.6"
  }
 },
 "nbformat": 4,
 "nbformat_minor": 2
}
